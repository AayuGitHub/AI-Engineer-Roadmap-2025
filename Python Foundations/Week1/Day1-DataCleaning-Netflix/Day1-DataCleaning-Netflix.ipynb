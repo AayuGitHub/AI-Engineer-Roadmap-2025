{
 "cells": [
  {
   "cell_type": "markdown",
   "id": "133d561e",
   "metadata": {},
   "source": [
    "# Day 1 — Netflix Data Cleaning\n",
    "Dataset: Netflix Movies and TV Shows (Kaggle)\n",
    "Goal: clean and normalize fields for downstream use"
   ]
  },
  {
   "cell_type": "code",
   "execution_count": 1,
   "id": "88864001",
   "metadata": {},
   "outputs": [
    {
     "name": "stdout",
     "output_type": "stream",
     "text": [
      "pandas 2.3.2\n",
      "numpy 2.3.3\n",
      "raw file exists: True\n"
     ]
    }
   ],
   "source": [
    "# Cell 1: imports and quick checks\n",
    "import os\n",
    "import re\n",
    "from pprint import pprint\n",
    "import pandas as pd\n",
    "import numpy as np\n",
    "\n",
    "print(\"pandas\", pd.__version__)\n",
    "print(\"numpy\", np.__version__)\n",
    "\n",
    "RAW = \"data/raw/netflix_titles.csv\"\n",
    "PROC = \"data/processed/netflix_clean.csv\"\n",
    "\n",
    "# show file exists\n",
    "print(\"raw file exists:\", os.path.exists(RAW))\n"
   ]
  },
  {
   "cell_type": "code",
   "execution_count": 2,
   "id": "e8ec9f98",
   "metadata": {},
   "outputs": [
    {
     "name": "stdout",
     "output_type": "stream",
     "text": [
      "rows, cols: (8807, 12)\n"
     ]
    },
    {
     "data": {
      "text/html": [
       "<div>\n",
       "<style scoped>\n",
       "    .dataframe tbody tr th:only-of-type {\n",
       "        vertical-align: middle;\n",
       "    }\n",
       "\n",
       "    .dataframe tbody tr th {\n",
       "        vertical-align: top;\n",
       "    }\n",
       "\n",
       "    .dataframe thead th {\n",
       "        text-align: right;\n",
       "    }\n",
       "</style>\n",
       "<table border=\"1\" class=\"dataframe\">\n",
       "  <thead>\n",
       "    <tr style=\"text-align: right;\">\n",
       "      <th></th>\n",
       "      <th>show_id</th>\n",
       "      <th>type</th>\n",
       "      <th>title</th>\n",
       "      <th>director</th>\n",
       "      <th>cast</th>\n",
       "      <th>country</th>\n",
       "      <th>date_added</th>\n",
       "      <th>release_year</th>\n",
       "      <th>rating</th>\n",
       "      <th>duration</th>\n",
       "      <th>listed_in</th>\n",
       "      <th>description</th>\n",
       "    </tr>\n",
       "  </thead>\n",
       "  <tbody>\n",
       "    <tr>\n",
       "      <th>0</th>\n",
       "      <td>s1</td>\n",
       "      <td>Movie</td>\n",
       "      <td>Dick Johnson Is Dead</td>\n",
       "      <td>Kirsten Johnson</td>\n",
       "      <td>NaN</td>\n",
       "      <td>United States</td>\n",
       "      <td>September 25, 2021</td>\n",
       "      <td>2020</td>\n",
       "      <td>PG-13</td>\n",
       "      <td>90 min</td>\n",
       "      <td>Documentaries</td>\n",
       "      <td>As her father nears the end of his life, filmm...</td>\n",
       "    </tr>\n",
       "    <tr>\n",
       "      <th>1</th>\n",
       "      <td>s2</td>\n",
       "      <td>TV Show</td>\n",
       "      <td>Blood &amp; Water</td>\n",
       "      <td>NaN</td>\n",
       "      <td>Ama Qamata, Khosi Ngema, Gail Mabalane, Thaban...</td>\n",
       "      <td>South Africa</td>\n",
       "      <td>September 24, 2021</td>\n",
       "      <td>2021</td>\n",
       "      <td>TV-MA</td>\n",
       "      <td>2 Seasons</td>\n",
       "      <td>International TV Shows, TV Dramas, TV Mysteries</td>\n",
       "      <td>After crossing paths at a party, a Cape Town t...</td>\n",
       "    </tr>\n",
       "    <tr>\n",
       "      <th>2</th>\n",
       "      <td>s3</td>\n",
       "      <td>TV Show</td>\n",
       "      <td>Ganglands</td>\n",
       "      <td>Julien Leclercq</td>\n",
       "      <td>Sami Bouajila, Tracy Gotoas, Samuel Jouy, Nabi...</td>\n",
       "      <td>NaN</td>\n",
       "      <td>September 24, 2021</td>\n",
       "      <td>2021</td>\n",
       "      <td>TV-MA</td>\n",
       "      <td>1 Season</td>\n",
       "      <td>Crime TV Shows, International TV Shows, TV Act...</td>\n",
       "      <td>To protect his family from a powerful drug lor...</td>\n",
       "    </tr>\n",
       "    <tr>\n",
       "      <th>3</th>\n",
       "      <td>s4</td>\n",
       "      <td>TV Show</td>\n",
       "      <td>Jailbirds New Orleans</td>\n",
       "      <td>NaN</td>\n",
       "      <td>NaN</td>\n",
       "      <td>NaN</td>\n",
       "      <td>September 24, 2021</td>\n",
       "      <td>2021</td>\n",
       "      <td>TV-MA</td>\n",
       "      <td>1 Season</td>\n",
       "      <td>Docuseries, Reality TV</td>\n",
       "      <td>Feuds, flirtations and toilet talk go down amo...</td>\n",
       "    </tr>\n",
       "    <tr>\n",
       "      <th>4</th>\n",
       "      <td>s5</td>\n",
       "      <td>TV Show</td>\n",
       "      <td>Kota Factory</td>\n",
       "      <td>NaN</td>\n",
       "      <td>Mayur More, Jitendra Kumar, Ranjan Raj, Alam K...</td>\n",
       "      <td>India</td>\n",
       "      <td>September 24, 2021</td>\n",
       "      <td>2021</td>\n",
       "      <td>TV-MA</td>\n",
       "      <td>2 Seasons</td>\n",
       "      <td>International TV Shows, Romantic TV Shows, TV ...</td>\n",
       "      <td>In a city of coaching centers known to train I...</td>\n",
       "    </tr>\n",
       "    <tr>\n",
       "      <th>5</th>\n",
       "      <td>s6</td>\n",
       "      <td>TV Show</td>\n",
       "      <td>Midnight Mass</td>\n",
       "      <td>Mike Flanagan</td>\n",
       "      <td>Kate Siegel, Zach Gilford, Hamish Linklater, H...</td>\n",
       "      <td>NaN</td>\n",
       "      <td>September 24, 2021</td>\n",
       "      <td>2021</td>\n",
       "      <td>TV-MA</td>\n",
       "      <td>1 Season</td>\n",
       "      <td>TV Dramas, TV Horror, TV Mysteries</td>\n",
       "      <td>The arrival of a charismatic young priest brin...</td>\n",
       "    </tr>\n",
       "    <tr>\n",
       "      <th>6</th>\n",
       "      <td>s7</td>\n",
       "      <td>Movie</td>\n",
       "      <td>My Little Pony: A New Generation</td>\n",
       "      <td>Robert Cullen, José Luis Ucha</td>\n",
       "      <td>Vanessa Hudgens, Kimiko Glenn, James Marsden, ...</td>\n",
       "      <td>NaN</td>\n",
       "      <td>September 24, 2021</td>\n",
       "      <td>2021</td>\n",
       "      <td>PG</td>\n",
       "      <td>91 min</td>\n",
       "      <td>Children &amp; Family Movies</td>\n",
       "      <td>Equestria's divided. But a bright-eyed hero be...</td>\n",
       "    </tr>\n",
       "    <tr>\n",
       "      <th>7</th>\n",
       "      <td>s8</td>\n",
       "      <td>Movie</td>\n",
       "      <td>Sankofa</td>\n",
       "      <td>Haile Gerima</td>\n",
       "      <td>Kofi Ghanaba, Oyafunmike Ogunlano, Alexandra D...</td>\n",
       "      <td>United States, Ghana, Burkina Faso, United Kin...</td>\n",
       "      <td>September 24, 2021</td>\n",
       "      <td>1993</td>\n",
       "      <td>TV-MA</td>\n",
       "      <td>125 min</td>\n",
       "      <td>Dramas, Independent Movies, International Movies</td>\n",
       "      <td>On a photo shoot in Ghana, an American model s...</td>\n",
       "    </tr>\n",
       "  </tbody>\n",
       "</table>\n",
       "</div>"
      ],
      "text/plain": [
       "  show_id     type                             title  \\\n",
       "0      s1    Movie              Dick Johnson Is Dead   \n",
       "1      s2  TV Show                     Blood & Water   \n",
       "2      s3  TV Show                         Ganglands   \n",
       "3      s4  TV Show             Jailbirds New Orleans   \n",
       "4      s5  TV Show                      Kota Factory   \n",
       "5      s6  TV Show                     Midnight Mass   \n",
       "6      s7    Movie  My Little Pony: A New Generation   \n",
       "7      s8    Movie                           Sankofa   \n",
       "\n",
       "                        director  \\\n",
       "0                Kirsten Johnson   \n",
       "1                            NaN   \n",
       "2                Julien Leclercq   \n",
       "3                            NaN   \n",
       "4                            NaN   \n",
       "5                  Mike Flanagan   \n",
       "6  Robert Cullen, José Luis Ucha   \n",
       "7                   Haile Gerima   \n",
       "\n",
       "                                                cast  \\\n",
       "0                                                NaN   \n",
       "1  Ama Qamata, Khosi Ngema, Gail Mabalane, Thaban...   \n",
       "2  Sami Bouajila, Tracy Gotoas, Samuel Jouy, Nabi...   \n",
       "3                                                NaN   \n",
       "4  Mayur More, Jitendra Kumar, Ranjan Raj, Alam K...   \n",
       "5  Kate Siegel, Zach Gilford, Hamish Linklater, H...   \n",
       "6  Vanessa Hudgens, Kimiko Glenn, James Marsden, ...   \n",
       "7  Kofi Ghanaba, Oyafunmike Ogunlano, Alexandra D...   \n",
       "\n",
       "                                             country          date_added  \\\n",
       "0                                      United States  September 25, 2021   \n",
       "1                                       South Africa  September 24, 2021   \n",
       "2                                                NaN  September 24, 2021   \n",
       "3                                                NaN  September 24, 2021   \n",
       "4                                              India  September 24, 2021   \n",
       "5                                                NaN  September 24, 2021   \n",
       "6                                                NaN  September 24, 2021   \n",
       "7  United States, Ghana, Burkina Faso, United Kin...  September 24, 2021   \n",
       "\n",
       "   release_year rating   duration  \\\n",
       "0          2020  PG-13     90 min   \n",
       "1          2021  TV-MA  2 Seasons   \n",
       "2          2021  TV-MA   1 Season   \n",
       "3          2021  TV-MA   1 Season   \n",
       "4          2021  TV-MA  2 Seasons   \n",
       "5          2021  TV-MA   1 Season   \n",
       "6          2021     PG     91 min   \n",
       "7          1993  TV-MA    125 min   \n",
       "\n",
       "                                           listed_in  \\\n",
       "0                                      Documentaries   \n",
       "1    International TV Shows, TV Dramas, TV Mysteries   \n",
       "2  Crime TV Shows, International TV Shows, TV Act...   \n",
       "3                             Docuseries, Reality TV   \n",
       "4  International TV Shows, Romantic TV Shows, TV ...   \n",
       "5                 TV Dramas, TV Horror, TV Mysteries   \n",
       "6                           Children & Family Movies   \n",
       "7   Dramas, Independent Movies, International Movies   \n",
       "\n",
       "                                         description  \n",
       "0  As her father nears the end of his life, filmm...  \n",
       "1  After crossing paths at a party, a Cape Town t...  \n",
       "2  To protect his family from a powerful drug lor...  \n",
       "3  Feuds, flirtations and toilet talk go down amo...  \n",
       "4  In a city of coaching centers known to train I...  \n",
       "5  The arrival of a charismatic young priest brin...  \n",
       "6  Equestria's divided. But a bright-eyed hero be...  \n",
       "7  On a photo shoot in Ghana, an American model s...  "
      ]
     },
     "execution_count": 2,
     "metadata": {},
     "output_type": "execute_result"
    }
   ],
   "source": [
    "# Cell 2: load and peek\n",
    "df = pd.read_csv(RAW)\n",
    "print(\"rows, cols:\", df.shape)\n",
    "df.head(8)"
   ]
  },
  {
   "cell_type": "code",
   "execution_count": 3,
   "id": "c713a078",
   "metadata": {},
   "outputs": [
    {
     "name": "stdout",
     "output_type": "stream",
     "text": [
      "<class 'pandas.core.frame.DataFrame'>\n",
      "RangeIndex: 8807 entries, 0 to 8806\n",
      "Data columns (total 12 columns):\n",
      " #   Column        Non-Null Count  Dtype \n",
      "---  ------        --------------  ----- \n",
      " 0   show_id       8807 non-null   object\n",
      " 1   type          8807 non-null   object\n",
      " 2   title         8807 non-null   object\n",
      " 3   director      6173 non-null   object\n",
      " 4   cast          7982 non-null   object\n",
      " 5   country       7976 non-null   object\n",
      " 6   date_added    8797 non-null   object\n",
      " 7   release_year  8807 non-null   int64 \n",
      " 8   rating        8803 non-null   object\n",
      " 9   duration      8804 non-null   object\n",
      " 10  listed_in     8807 non-null   object\n",
      " 11  description   8807 non-null   object\n",
      "dtypes: int64(1), object(11)\n",
      "memory usage: 825.8+ KB\n"
     ]
    },
    {
     "data": {
      "text/plain": [
       "director      2634\n",
       "country        831\n",
       "cast           825\n",
       "date_added      10\n",
       "rating           4\n",
       "duration         3\n",
       "dtype: int64"
      ]
     },
     "execution_count": 3,
     "metadata": {},
     "output_type": "execute_result"
    }
   ],
   "source": [
    "# Cell 3: data info and missing counts\n",
    "df.info()\n",
    "missing = df.isnull().sum().sort_values(ascending=False)\n",
    "missing[missing > 0]"
   ]
  },
  {
   "cell_type": "code",
   "execution_count": 4,
   "id": "edbe5af5",
   "metadata": {},
   "outputs": [
    {
     "data": {
      "text/plain": [
       "['show_id',\n",
       " 'type',\n",
       " 'title',\n",
       " 'director',\n",
       " 'cast',\n",
       " 'country',\n",
       " 'date_added',\n",
       " 'release_year',\n",
       " 'rating',\n",
       " 'duration',\n",
       " 'listed_in',\n",
       " 'description']"
      ]
     },
     "execution_count": 4,
     "metadata": {},
     "output_type": "execute_result"
    }
   ],
   "source": [
    "# Cell 4: normalize column names\n",
    "df.columns = [c.strip().lower().replace(' ', '_') for c in df.columns]\n",
    "df.columns.tolist()"
   ]
  },
  {
   "cell_type": "code",
   "execution_count": 5,
   "id": "af20b493",
   "metadata": {},
   "outputs": [
    {
     "name": "stdout",
     "output_type": "stream",
     "text": [
      "dropped duplicate rows:  0\n",
      "Unique show_id count: ['s1' 's2' 's3' ... 's8805' 's8806' 's8807']\n"
     ]
    }
   ],
   "source": [
    "# Cell 5: drop duplicates by all columns or by show_id\n",
    "initial_row = len(df)\n",
    "df = df.drop_duplicates()\n",
    "print(\"dropped duplicate rows: \", initial_row - len(df))\n",
    "\n",
    "# make sure show_id is unique; if not, choose logic\n",
    "print(\"Unique show_id count:\", df['show_id'].unique())"
   ]
  },
  {
   "cell_type": "code",
   "execution_count": 6,
   "id": "27a97ab8",
   "metadata": {},
   "outputs": [],
   "source": [
    "# Cell 6: strip whitespace and collapse repeated spaces for text columns\n",
    "\n",
    "text_cols = ['type', 'title', 'director', 'cast', 'country', 'rating', 'duration', 'listed_in', 'description']\n",
    "for c in text_cols:\n",
    "    if c in df.columns:\n",
    "        df[c] = df[c].astype(str).str.strip().replace({'nan':None, 'None': None})\n",
    "        df[c] = df[c].replace('nan', None)\n",
    "           "
   ]
  },
  {
   "cell_type": "code",
   "execution_count": 7,
   "id": "ddc99c9e",
   "metadata": {},
   "outputs": [
    {
     "name": "stdout",
     "output_type": "stream",
     "text": [
      "missing date_added before fallback: 98\n",
      "missing date_added after fallback: 0\n"
     ]
    }
   ],
   "source": [
    "# Cell 7: parse date_added; many formats exist like 'September 9, 2019' or NaN\n",
    "\n",
    "if 'date_added' in df.columns:\n",
    "    df['date_added'] = pd.to_datetime(df['date_added'], errors='coerce')\n",
    "\n",
    "# Create a fallback: if date_added is NaT, maybe set it from release_year:\n",
    "if 'release_year' in df.columns:\n",
    "    missing_dates = df['date_added'].isna().sum()\n",
    "    print(\"missing date_added before fallback:\", missing_dates)\n",
    "    \n",
    "    # where date_added is NaT, set to Jan 1 of release_year (best-effort)\n",
    "    df.loc[df['date_added'].isna() & df['release_year'].notna(), 'date_added'] = \\\n",
    "        pd.to_datetime(df.loc[df['date_added'].isna() & df['release_year'].notna(), 'release_year'].astype(int).astype(str) + \"-01-01\")\n",
    "    print(\"missing date_added after fallback:\", df['date_added'].isna().sum())"
   ]
  },
  {
   "cell_type": "code",
   "execution_count": 8,
   "id": "920235d8",
   "metadata": {},
   "outputs": [],
   "source": [
    "# Cell 8: split columns that contain comma-separated lists into lists\n",
    "\n",
    "def split_to_list(x):\n",
    "    if pd.isna(x) or x is None:\n",
    "        return []\n",
    "    # sometimes fields are single string; split on comma and strip\n",
    "    return [item.strip() for item in str(x).split(',') if item.strip()]\n",
    "\n",
    "for col in ['cast', 'country', 'listed_in']:\n",
    "    if col in df.columns:\n",
    "        df[col + '_list'] = df[col].apply(split_to_list)"
   ]
  },
  {
   "cell_type": "code",
   "execution_count": 9,
   "id": "aee39002",
   "metadata": {},
   "outputs": [],
   "source": [
    "# Cell 9: parse duration to numeric + unit (minutes vs seasons)\n",
    "\n",
    "def parse_duration(d):\n",
    "    if pd.isna(d) or d is None:\n",
    "        return (np.nan, None)\n",
    "    \n",
    "    # examples: '90 min', '1 Season', '2 Seasons'\n",
    "    s = str(d).strip()\n",
    "    \n",
    "    # minutes\n",
    "    m = re.search(r'(\\d+)\\s*min', s)\n",
    "    if m:\n",
    "        return (int(m.group(1)), 'min')\n",
    "    \n",
    "    s2 = re.search(r'(\\d+)\\s*Season', s)\n",
    "    if s2:\n",
    "        return (int(s2.group(1)), 'season')\n",
    "    # fallback numeric extraction\n",
    "    m2 = re.search(r'(\\d+)', s)\n",
    "    if m2:\n",
    "        return (int(m2.group(1)), None)\n",
    "    return (np.nan, None)\n",
    "    \n",
    "\n",
    "df[['duration_int', 'duration_type']] = df['duration'].apply(lambda x: pd.Series(parse_duration(x)))"
   ]
  },
  {
   "cell_type": "code",
   "execution_count": 10,
   "id": "237d967b",
   "metadata": {},
   "outputs": [],
   "source": [
    "# Cell 10: normalize rating categories into simpler buckets\n",
    "\n",
    "def normalize_rating(r):\n",
    "    if pd.isna(r) or r is None or r == 'nan':\n",
    "        return 'Unknown'\n",
    "    s = str(r).upper().strip()\n",
    "    # a simple mapping: kids/family/adult/unknown\n",
    "    kids = {'G','TV-Y','TV-Y7'}\n",
    "    family = {'PG','PG-13','TV-G','TV-PG'}\n",
    "    adult = {'R','NC-17','TV-MA','MA15+'}\n",
    "    if any(s.startswith(k) for k in kids):\n",
    "        return 'Kids'\n",
    "    if any(s.startswith(k) for k in family):\n",
    "        return 'Family'\n",
    "    if any(s.startswith(k) for k in adult):\n",
    "        return 'Adult'\n",
    "    return s  # keep original if unknown\n",
    "\n",
    "if 'rating' in df.columns:\n",
    "    df['rating_simple'] = df['rating'].apply(normalize_rating)"
   ]
  },
  {
   "cell_type": "code",
   "execution_count": 11,
   "id": "2d337bba",
   "metadata": {},
   "outputs": [],
   "source": [
    "# Cell 11: director and cast - fill missing\n",
    "\n",
    "if 'director' in df.columns:\n",
    "    df['director'] = df['director'].replace({None: np.nan})\n",
    "    df['director'] = df['director'].fillna(\"Unknown\")\n",
    "\n",
    "# cast_list created earlier; create a 'primary_actor' for quick filters\n",
    "if 'cast_list' in df.columns:\n",
    "    df['primary_cast'] = df['cast_list'].apply(lambda x: x[0] if x else \"Unknown\")\n"
   ]
  },
  {
   "cell_type": "code",
   "execution_count": 12,
   "id": "a568311c",
   "metadata": {},
   "outputs": [
    {
     "name": "stdout",
     "output_type": "stream",
     "text": [
      "top genres: ['International Movies', 'Dramas', 'Comedies', 'International TV Shows', 'Documentaries', 'Action & Adventure', 'TV Dramas', 'Independent Movies', 'Children & Family Movies', 'Romantic Movies']\n"
     ]
    }
   ],
   "source": [
    "# Cell 12: explode listed_in_list to get top genres\n",
    "from collections import Counter\n",
    "all_genres = Counter()\n",
    "if 'listed_in_list' in df.columns:\n",
    "    df['listed_in_list'].apply(lambda lst: all_genres.update(lst))\n",
    "top_genres = [g for g,_ in all_genres.most_common(10)]\n",
    "print(\"top genres:\", top_genres)\n",
    "\n",
    "# create binary columns for top genres\n",
    "for g in top_genres:\n",
    "    safe_name = g.lower().replace(' ','_')\n",
    "    df[f'genre_{safe_name}'] = df['listed_in_list'].apply(lambda lst: int(g in lst))"
   ]
  },
  {
   "cell_type": "code",
   "execution_count": 13,
   "id": "1b1a3603",
   "metadata": {},
   "outputs": [
    {
     "name": "stdout",
     "output_type": "stream",
     "text": [
      "shape after cleaning (8807, 29)\n",
      "missing per column after cleaning (sample):\n",
      "title            0\n",
      "show_id          0\n",
      "type             0\n",
      "date_added       0\n",
      "duration_int     3\n",
      "duration_type    3\n",
      "rating_simple    0\n",
      "dtype: int64\n"
     ]
    }
   ],
   "source": [
    "# Cell 13: final checks\n",
    "print(\"shape after cleaning\", df.shape)\n",
    "print(\"missing per column after cleaning (sample):\")\n",
    "print(df[['title','show_id','type','date_added','duration_int','duration_type','rating_simple']].isnull().sum())\n",
    "# ensure essential columns have no nulls:\n",
    "assert df['show_id'].notna().all(), \"show_id has nulls!\"\n",
    "assert df['title'].notna().all(), \"title has nulls!\"\n"
   ]
  },
  {
   "cell_type": "code",
   "execution_count": 14,
   "id": "19f488d9",
   "metadata": {},
   "outputs": [
    {
     "name": "stdout",
     "output_type": "stream",
     "text": [
      "saved cleaned csv to data/processed/netflix_clean.csv\n"
     ]
    }
   ],
   "source": [
    "# Cell 14: save processed file\n",
    "os.makedirs(\"data/processed\", exist_ok=True)\n",
    "df.to_csv(PROC, index=False)\n",
    "print(\"saved cleaned csv to\", PROC)\n"
   ]
  },
  {
   "cell_type": "code",
   "execution_count": 15,
   "id": "20a05b83",
   "metadata": {},
   "outputs": [
    {
     "data": {
      "image/png": "[encoded data removed]",
      "text/plain": [
       "<Figure size 800x500 with 1 Axes>"
      ]
     },
     "metadata": {},
     "output_type": "display_data"
    }
   ],
   "source": [
    "# Cell 15: quick EDA plots (run in notebook)\n",
    "import matplotlib.pyplot as plt\n",
    "\n",
    "# top 10 countries by show count (take first country if multiple)\n",
    "df['primary_country'] = df['country_list'].apply(lambda lst: lst[0] if lst else \"Unknown\")\n",
    "top_countries = df['primary_country'].value_counts().nlargest(10)\n",
    "top_countries.plot(kind='barh', figsize=(8,5))\n",
    "plt.title(\"Top 10 countries by show count\")\n",
    "plt.xlabel(\"count\")\n",
    "plt.gca().invert_yaxis()\n",
    "plt.show()\n"
   ]
  }
 ],
 "metadata": {
  "kernelspec": {
   "display_name": "ai-engineer-roadmap-2025",
   "language": "python",
   "name": "ai-engineer-roadmap-2025"
  },
  "language_info": {
   "codemirror_mode": {
    "name": "ipython",
    "version": 3
   },
   "file_extension": ".py",
   "mimetype": "text/x-python",
   "name": "python",
   "nbconvert_exporter": "python",
   "pygments_lexer": "ipython3",
   "version": "3.11.13"
  }
 },
 "nbformat": 4,
 "nbformat_minor": 5
}
